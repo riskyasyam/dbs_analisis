{
 "cells": [
  {
   "cell_type": "markdown",
   "metadata": {},
   "source": [
    "# Proyek Analisis Data : Bike Sharing Dataset\n",
    "- **Nama:** Muhammad Rizky Asyam Haidar\n",
    "- **Email:** riskyasyam0@gmail.com\n",
    "- **ID Dicoding:** riskyasyam"
   ]
  },
  {
   "cell_type": "markdown",
   "metadata": {},
   "source": [
    "# Menentukan Pertanyaan Bisnis"
   ]
  },
  {
   "cell_type": "markdown",
   "metadata": {},
   "source": [
    "Pertanyaan 1 : Apakah hujan atau salju secara signifikan mengurangi jumlah penyewaan sepeda? <br>\n",
    "Pertanyaan 2 : Faktor apa yang paling berkontribusi terhadap jumlah penyewaan sepeda?"
   ]
  },
  {
   "cell_type": "markdown",
   "metadata": {},
   "source": [
    "# Import Semua Packages / Library yang Digunakan"
   ]
  },
  {
   "cell_type": "code",
   "execution_count": 1,
   "metadata": {},
   "outputs": [],
   "source": [
    "import pandas as pd\n",
    "import seaborn as sns\n",
    "import matplotlib.pyplot as plt"
   ]
  },
  {
   "cell_type": "markdown",
   "metadata": {},
   "source": [
    "# Data Wrangling"
   ]
  },
  {
   "cell_type": "markdown",
   "metadata": {},
   "source": [
    "Gathering Data"
   ]
  },
  {
   "cell_type": "code",
   "execution_count": 2,
   "metadata": {},
   "outputs": [
    {
     "data": {
      "text/plain": [
       "(   instant      dteday  season  yr  mnth  holiday  weekday  workingday  \\\n",
       " 0        1  2011-01-01       1   0     1        0        6           0   \n",
       " 1        2  2011-01-02       1   0     1        0        0           0   \n",
       " 2        3  2011-01-03       1   0     1        0        1           1   \n",
       " 3        4  2011-01-04       1   0     1        0        2           1   \n",
       " 4        5  2011-01-05       1   0     1        0        3           1   \n",
       " \n",
       "    weathersit      temp     atemp       hum  windspeed  casual  registered  \\\n",
       " 0           2  0.344167  0.363625  0.805833   0.160446     331         654   \n",
       " 1           2  0.363478  0.353739  0.696087   0.248539     131         670   \n",
       " 2           1  0.196364  0.189405  0.437273   0.248309     120        1229   \n",
       " 3           1  0.200000  0.212122  0.590435   0.160296     108        1454   \n",
       " 4           1  0.226957  0.229270  0.436957   0.186900      82        1518   \n",
       " \n",
       "     cnt  \n",
       " 0   985  \n",
       " 1   801  \n",
       " 2  1349  \n",
       " 3  1562  \n",
       " 4  1600  ,\n",
       "    instant      dteday  season  yr  mnth  hr  holiday  weekday  workingday  \\\n",
       " 0        1  2011-01-01       1   0     1   0        0        6           0   \n",
       " 1        2  2011-01-01       1   0     1   1        0        6           0   \n",
       " 2        3  2011-01-01       1   0     1   2        0        6           0   \n",
       " 3        4  2011-01-01       1   0     1   3        0        6           0   \n",
       " 4        5  2011-01-01       1   0     1   4        0        6           0   \n",
       " \n",
       "    weathersit  temp   atemp   hum  windspeed  casual  registered  cnt  \n",
       " 0           1  0.24  0.2879  0.81        0.0       3          13   16  \n",
       " 1           1  0.22  0.2727  0.80        0.0       8          32   40  \n",
       " 2           1  0.22  0.2727  0.80        0.0       5          27   32  \n",
       " 3           1  0.24  0.2879  0.75        0.0       3          10   13  \n",
       " 4           1  0.24  0.2879  0.75        0.0       0           1    1  )"
      ]
     },
     "execution_count": 2,
     "metadata": {},
     "output_type": "execute_result"
    }
   ],
   "source": [
    "day_df = pd.read_csv(\"data/day.csv\") #Memuat data rental sepeda per harinya\n",
    "hour_df = pd.read_csv(\"data/hour.csv\") #Memuat data rental sepeda per jam\n",
    "day_df.head(), hour_df.head() #Menampilkan 5 baris data pertama pada tiap dataframe"
   ]
  },
  {
   "cell_type": "markdown",
   "metadata": {},
   "source": [
    "Insight : \n",
    "Setelah membaca semua data, kemudian menampilkan 5 bagian pertama dari hour_df dan day_df"
   ]
  },
  {
   "cell_type": "code",
   "execution_count": 3,
   "metadata": {},
   "outputs": [
    {
     "name": "stdout",
     "output_type": "stream",
     "text": [
      "instant         int64\n",
      "dteday         object\n",
      "season          int64\n",
      "yr              int64\n",
      "mnth            int64\n",
      "holiday         int64\n",
      "weekday         int64\n",
      "workingday      int64\n",
      "weathersit      int64\n",
      "temp          float64\n",
      "atemp         float64\n",
      "hum           float64\n",
      "windspeed     float64\n",
      "casual          int64\n",
      "registered      int64\n",
      "cnt             int64\n",
      "dtype: object\n",
      "instant         int64\n",
      "dteday         object\n",
      "season          int64\n",
      "yr              int64\n",
      "mnth            int64\n",
      "hr              int64\n",
      "holiday         int64\n",
      "weekday         int64\n",
      "workingday      int64\n",
      "weathersit      int64\n",
      "temp          float64\n",
      "atemp         float64\n",
      "hum           float64\n",
      "windspeed     float64\n",
      "casual          int64\n",
      "registered      int64\n",
      "cnt             int64\n",
      "dtype: object\n"
     ]
    }
   ],
   "source": [
    "# Cek tipe data setiap kolom\n",
    "print(day_df.dtypes)\n",
    "print(hour_df.dtypes)"
   ]
  },
  {
   "cell_type": "markdown",
   "metadata": {},
   "source": [
    "Insight : Kita bisa melihat hasil tipe data pada data diatas masih ada beberapa tipe data yang tidak sesuai salah satu nya tanggal (datetime)"
   ]
  },
  {
   "cell_type": "markdown",
   "metadata": {},
   "source": [
    "Assessing Data"
   ]
  },
  {
   "cell_type": "code",
   "execution_count": 4,
   "metadata": {},
   "outputs": [
    {
     "name": "stdout",
     "output_type": "stream",
     "text": [
      "<class 'pandas.core.frame.DataFrame'>\n",
      "RangeIndex: 731 entries, 0 to 730\n",
      "Data columns (total 16 columns):\n",
      " #   Column      Non-Null Count  Dtype  \n",
      "---  ------      --------------  -----  \n",
      " 0   instant     731 non-null    int64  \n",
      " 1   dteday      731 non-null    object \n",
      " 2   season      731 non-null    int64  \n",
      " 3   yr          731 non-null    int64  \n",
      " 4   mnth        731 non-null    int64  \n",
      " 5   holiday     731 non-null    int64  \n",
      " 6   weekday     731 non-null    int64  \n",
      " 7   workingday  731 non-null    int64  \n",
      " 8   weathersit  731 non-null    int64  \n",
      " 9   temp        731 non-null    float64\n",
      " 10  atemp       731 non-null    float64\n",
      " 11  hum         731 non-null    float64\n",
      " 12  windspeed   731 non-null    float64\n",
      " 13  casual      731 non-null    int64  \n",
      " 14  registered  731 non-null    int64  \n",
      " 15  cnt         731 non-null    int64  \n",
      "dtypes: float64(4), int64(11), object(1)\n",
      "memory usage: 91.5+ KB\n"
     ]
    },
    {
     "data": {
      "text/plain": [
       "(None,\n",
       " instant       0\n",
       " dteday        0\n",
       " season        0\n",
       " yr            0\n",
       " mnth          0\n",
       " holiday       0\n",
       " weekday       0\n",
       " workingday    0\n",
       " weathersit    0\n",
       " temp          0\n",
       " atemp         0\n",
       " hum           0\n",
       " windspeed     0\n",
       " casual        0\n",
       " registered    0\n",
       " cnt           0\n",
       " dtype: int64)"
      ]
     },
     "execution_count": 4,
     "metadata": {},
     "output_type": "execute_result"
    }
   ],
   "source": [
    "## Menilai dataframe day_df\n",
    "day_df.info(), day_df.isna().sum()"
   ]
  },
  {
   "cell_type": "markdown",
   "metadata": {},
   "source": [
    "Insight : Hasil yang ditampilkan untuk day_df tidak ada data yang kosong"
   ]
  },
  {
   "cell_type": "code",
   "execution_count": 5,
   "metadata": {},
   "outputs": [
    {
     "name": "stdout",
     "output_type": "stream",
     "text": [
      "<class 'pandas.core.frame.DataFrame'>\n",
      "RangeIndex: 17379 entries, 0 to 17378\n",
      "Data columns (total 17 columns):\n",
      " #   Column      Non-Null Count  Dtype  \n",
      "---  ------      --------------  -----  \n",
      " 0   instant     17379 non-null  int64  \n",
      " 1   dteday      17379 non-null  object \n",
      " 2   season      17379 non-null  int64  \n",
      " 3   yr          17379 non-null  int64  \n",
      " 4   mnth        17379 non-null  int64  \n",
      " 5   hr          17379 non-null  int64  \n",
      " 6   holiday     17379 non-null  int64  \n",
      " 7   weekday     17379 non-null  int64  \n",
      " 8   workingday  17379 non-null  int64  \n",
      " 9   weathersit  17379 non-null  int64  \n",
      " 10  temp        17379 non-null  float64\n",
      " 11  atemp       17379 non-null  float64\n",
      " 12  hum         17379 non-null  float64\n",
      " 13  windspeed   17379 non-null  float64\n",
      " 14  casual      17379 non-null  int64  \n",
      " 15  registered  17379 non-null  int64  \n",
      " 16  cnt         17379 non-null  int64  \n",
      "dtypes: float64(4), int64(12), object(1)\n",
      "memory usage: 2.3+ MB\n"
     ]
    },
    {
     "data": {
      "text/plain": [
       "(None,\n",
       " instant       0\n",
       " dteday        0\n",
       " season        0\n",
       " yr            0\n",
       " mnth          0\n",
       " hr            0\n",
       " holiday       0\n",
       " weekday       0\n",
       " workingday    0\n",
       " weathersit    0\n",
       " temp          0\n",
       " atemp         0\n",
       " hum           0\n",
       " windspeed     0\n",
       " casual        0\n",
       " registered    0\n",
       " cnt           0\n",
       " dtype: int64)"
      ]
     },
     "execution_count": 5,
     "metadata": {},
     "output_type": "execute_result"
    }
   ],
   "source": [
    "# Menilai dataframe hour_df\n",
    "hour_df.info(), hour_df.isna().sum()"
   ]
  },
  {
   "cell_type": "markdown",
   "metadata": {},
   "source": [
    "Insight : Pada hour_df juga tidak ada data yang kosong"
   ]
  },
  {
   "cell_type": "code",
   "execution_count": 6,
   "metadata": {},
   "outputs": [
    {
     "name": "stdout",
     "output_type": "stream",
     "text": [
      "Jumlah duplikasi data pada dataframe day_df:  0\n",
      "Jumlah duplikasi data pada dataframe hour_df:  0\n"
     ]
    }
   ],
   "source": [
    "#Cek duplikat pada semua dataframe\n",
    "\n",
    "print(\"Jumlah duplikasi data pada dataframe day_df: \", day_df.duplicated().sum())\n",
    "print(\"Jumlah duplikasi data pada dataframe hour_df: \", hour_df.duplicated().sum())"
   ]
  },
  {
   "cell_type": "markdown",
   "metadata": {},
   "source": [
    "Insight : Pada dataframe day_df dan hour_df tidak ada duplikat data alias 0"
   ]
  },
  {
   "cell_type": "code",
   "execution_count": 7,
   "metadata": {},
   "outputs": [
    {
     "data": {
      "text/html": [
       "<div>\n",
       "<style scoped>\n",
       "    .dataframe tbody tr th:only-of-type {\n",
       "        vertical-align: middle;\n",
       "    }\n",
       "\n",
       "    .dataframe tbody tr th {\n",
       "        vertical-align: top;\n",
       "    }\n",
       "\n",
       "    .dataframe thead th {\n",
       "        text-align: right;\n",
       "    }\n",
       "</style>\n",
       "<table border=\"1\" class=\"dataframe\">\n",
       "  <thead>\n",
       "    <tr style=\"text-align: right;\">\n",
       "      <th></th>\n",
       "      <th>instant</th>\n",
       "      <th>dteday</th>\n",
       "      <th>season</th>\n",
       "      <th>yr</th>\n",
       "      <th>mnth</th>\n",
       "      <th>holiday</th>\n",
       "      <th>weekday</th>\n",
       "      <th>workingday</th>\n",
       "      <th>weathersit</th>\n",
       "      <th>temp</th>\n",
       "      <th>atemp</th>\n",
       "      <th>hum</th>\n",
       "      <th>windspeed</th>\n",
       "      <th>casual</th>\n",
       "      <th>registered</th>\n",
       "      <th>cnt</th>\n",
       "    </tr>\n",
       "  </thead>\n",
       "  <tbody>\n",
       "    <tr>\n",
       "      <th>count</th>\n",
       "      <td>731.000000</td>\n",
       "      <td>731</td>\n",
       "      <td>731.000000</td>\n",
       "      <td>731.000000</td>\n",
       "      <td>731.000000</td>\n",
       "      <td>731.000000</td>\n",
       "      <td>731.000000</td>\n",
       "      <td>731.000000</td>\n",
       "      <td>731.000000</td>\n",
       "      <td>731.000000</td>\n",
       "      <td>731.000000</td>\n",
       "      <td>731.000000</td>\n",
       "      <td>731.000000</td>\n",
       "      <td>731.000000</td>\n",
       "      <td>731.000000</td>\n",
       "      <td>731.000000</td>\n",
       "    </tr>\n",
       "    <tr>\n",
       "      <th>unique</th>\n",
       "      <td>NaN</td>\n",
       "      <td>731</td>\n",
       "      <td>NaN</td>\n",
       "      <td>NaN</td>\n",
       "      <td>NaN</td>\n",
       "      <td>NaN</td>\n",
       "      <td>NaN</td>\n",
       "      <td>NaN</td>\n",
       "      <td>NaN</td>\n",
       "      <td>NaN</td>\n",
       "      <td>NaN</td>\n",
       "      <td>NaN</td>\n",
       "      <td>NaN</td>\n",
       "      <td>NaN</td>\n",
       "      <td>NaN</td>\n",
       "      <td>NaN</td>\n",
       "    </tr>\n",
       "    <tr>\n",
       "      <th>top</th>\n",
       "      <td>NaN</td>\n",
       "      <td>2012-12-31</td>\n",
       "      <td>NaN</td>\n",
       "      <td>NaN</td>\n",
       "      <td>NaN</td>\n",
       "      <td>NaN</td>\n",
       "      <td>NaN</td>\n",
       "      <td>NaN</td>\n",
       "      <td>NaN</td>\n",
       "      <td>NaN</td>\n",
       "      <td>NaN</td>\n",
       "      <td>NaN</td>\n",
       "      <td>NaN</td>\n",
       "      <td>NaN</td>\n",
       "      <td>NaN</td>\n",
       "      <td>NaN</td>\n",
       "    </tr>\n",
       "    <tr>\n",
       "      <th>freq</th>\n",
       "      <td>NaN</td>\n",
       "      <td>1</td>\n",
       "      <td>NaN</td>\n",
       "      <td>NaN</td>\n",
       "      <td>NaN</td>\n",
       "      <td>NaN</td>\n",
       "      <td>NaN</td>\n",
       "      <td>NaN</td>\n",
       "      <td>NaN</td>\n",
       "      <td>NaN</td>\n",
       "      <td>NaN</td>\n",
       "      <td>NaN</td>\n",
       "      <td>NaN</td>\n",
       "      <td>NaN</td>\n",
       "      <td>NaN</td>\n",
       "      <td>NaN</td>\n",
       "    </tr>\n",
       "    <tr>\n",
       "      <th>mean</th>\n",
       "      <td>366.000000</td>\n",
       "      <td>NaN</td>\n",
       "      <td>2.496580</td>\n",
       "      <td>0.500684</td>\n",
       "      <td>6.519836</td>\n",
       "      <td>0.028728</td>\n",
       "      <td>2.997264</td>\n",
       "      <td>0.683995</td>\n",
       "      <td>1.395349</td>\n",
       "      <td>0.495385</td>\n",
       "      <td>0.474354</td>\n",
       "      <td>0.627894</td>\n",
       "      <td>0.190486</td>\n",
       "      <td>848.176471</td>\n",
       "      <td>3656.172367</td>\n",
       "      <td>4504.348837</td>\n",
       "    </tr>\n",
       "    <tr>\n",
       "      <th>std</th>\n",
       "      <td>211.165812</td>\n",
       "      <td>NaN</td>\n",
       "      <td>1.110807</td>\n",
       "      <td>0.500342</td>\n",
       "      <td>3.451913</td>\n",
       "      <td>0.167155</td>\n",
       "      <td>2.004787</td>\n",
       "      <td>0.465233</td>\n",
       "      <td>0.544894</td>\n",
       "      <td>0.183051</td>\n",
       "      <td>0.162961</td>\n",
       "      <td>0.142429</td>\n",
       "      <td>0.077498</td>\n",
       "      <td>686.622488</td>\n",
       "      <td>1560.256377</td>\n",
       "      <td>1937.211452</td>\n",
       "    </tr>\n",
       "    <tr>\n",
       "      <th>min</th>\n",
       "      <td>1.000000</td>\n",
       "      <td>NaN</td>\n",
       "      <td>1.000000</td>\n",
       "      <td>0.000000</td>\n",
       "      <td>1.000000</td>\n",
       "      <td>0.000000</td>\n",
       "      <td>0.000000</td>\n",
       "      <td>0.000000</td>\n",
       "      <td>1.000000</td>\n",
       "      <td>0.059130</td>\n",
       "      <td>0.079070</td>\n",
       "      <td>0.000000</td>\n",
       "      <td>0.022392</td>\n",
       "      <td>2.000000</td>\n",
       "      <td>20.000000</td>\n",
       "      <td>22.000000</td>\n",
       "    </tr>\n",
       "    <tr>\n",
       "      <th>25%</th>\n",
       "      <td>183.500000</td>\n",
       "      <td>NaN</td>\n",
       "      <td>2.000000</td>\n",
       "      <td>0.000000</td>\n",
       "      <td>4.000000</td>\n",
       "      <td>0.000000</td>\n",
       "      <td>1.000000</td>\n",
       "      <td>0.000000</td>\n",
       "      <td>1.000000</td>\n",
       "      <td>0.337083</td>\n",
       "      <td>0.337842</td>\n",
       "      <td>0.520000</td>\n",
       "      <td>0.134950</td>\n",
       "      <td>315.500000</td>\n",
       "      <td>2497.000000</td>\n",
       "      <td>3152.000000</td>\n",
       "    </tr>\n",
       "    <tr>\n",
       "      <th>50%</th>\n",
       "      <td>366.000000</td>\n",
       "      <td>NaN</td>\n",
       "      <td>3.000000</td>\n",
       "      <td>1.000000</td>\n",
       "      <td>7.000000</td>\n",
       "      <td>0.000000</td>\n",
       "      <td>3.000000</td>\n",
       "      <td>1.000000</td>\n",
       "      <td>1.000000</td>\n",
       "      <td>0.498333</td>\n",
       "      <td>0.486733</td>\n",
       "      <td>0.626667</td>\n",
       "      <td>0.180975</td>\n",
       "      <td>713.000000</td>\n",
       "      <td>3662.000000</td>\n",
       "      <td>4548.000000</td>\n",
       "    </tr>\n",
       "    <tr>\n",
       "      <th>75%</th>\n",
       "      <td>548.500000</td>\n",
       "      <td>NaN</td>\n",
       "      <td>3.000000</td>\n",
       "      <td>1.000000</td>\n",
       "      <td>10.000000</td>\n",
       "      <td>0.000000</td>\n",
       "      <td>5.000000</td>\n",
       "      <td>1.000000</td>\n",
       "      <td>2.000000</td>\n",
       "      <td>0.655417</td>\n",
       "      <td>0.608602</td>\n",
       "      <td>0.730209</td>\n",
       "      <td>0.233214</td>\n",
       "      <td>1096.000000</td>\n",
       "      <td>4776.500000</td>\n",
       "      <td>5956.000000</td>\n",
       "    </tr>\n",
       "    <tr>\n",
       "      <th>max</th>\n",
       "      <td>731.000000</td>\n",
       "      <td>NaN</td>\n",
       "      <td>4.000000</td>\n",
       "      <td>1.000000</td>\n",
       "      <td>12.000000</td>\n",
       "      <td>1.000000</td>\n",
       "      <td>6.000000</td>\n",
       "      <td>1.000000</td>\n",
       "      <td>3.000000</td>\n",
       "      <td>0.861667</td>\n",
       "      <td>0.840896</td>\n",
       "      <td>0.972500</td>\n",
       "      <td>0.507463</td>\n",
       "      <td>3410.000000</td>\n",
       "      <td>6946.000000</td>\n",
       "      <td>8714.000000</td>\n",
       "    </tr>\n",
       "  </tbody>\n",
       "</table>\n",
       "</div>"
      ],
      "text/plain": [
       "           instant      dteday      season          yr        mnth  \\\n",
       "count   731.000000         731  731.000000  731.000000  731.000000   \n",
       "unique         NaN         731         NaN         NaN         NaN   \n",
       "top            NaN  2012-12-31         NaN         NaN         NaN   \n",
       "freq           NaN           1         NaN         NaN         NaN   \n",
       "mean    366.000000         NaN    2.496580    0.500684    6.519836   \n",
       "std     211.165812         NaN    1.110807    0.500342    3.451913   \n",
       "min       1.000000         NaN    1.000000    0.000000    1.000000   \n",
       "25%     183.500000         NaN    2.000000    0.000000    4.000000   \n",
       "50%     366.000000         NaN    3.000000    1.000000    7.000000   \n",
       "75%     548.500000         NaN    3.000000    1.000000   10.000000   \n",
       "max     731.000000         NaN    4.000000    1.000000   12.000000   \n",
       "\n",
       "           holiday     weekday  workingday  weathersit        temp  \\\n",
       "count   731.000000  731.000000  731.000000  731.000000  731.000000   \n",
       "unique         NaN         NaN         NaN         NaN         NaN   \n",
       "top            NaN         NaN         NaN         NaN         NaN   \n",
       "freq           NaN         NaN         NaN         NaN         NaN   \n",
       "mean      0.028728    2.997264    0.683995    1.395349    0.495385   \n",
       "std       0.167155    2.004787    0.465233    0.544894    0.183051   \n",
       "min       0.000000    0.000000    0.000000    1.000000    0.059130   \n",
       "25%       0.000000    1.000000    0.000000    1.000000    0.337083   \n",
       "50%       0.000000    3.000000    1.000000    1.000000    0.498333   \n",
       "75%       0.000000    5.000000    1.000000    2.000000    0.655417   \n",
       "max       1.000000    6.000000    1.000000    3.000000    0.861667   \n",
       "\n",
       "             atemp         hum   windspeed       casual   registered  \\\n",
       "count   731.000000  731.000000  731.000000   731.000000   731.000000   \n",
       "unique         NaN         NaN         NaN          NaN          NaN   \n",
       "top            NaN         NaN         NaN          NaN          NaN   \n",
       "freq           NaN         NaN         NaN          NaN          NaN   \n",
       "mean      0.474354    0.627894    0.190486   848.176471  3656.172367   \n",
       "std       0.162961    0.142429    0.077498   686.622488  1560.256377   \n",
       "min       0.079070    0.000000    0.022392     2.000000    20.000000   \n",
       "25%       0.337842    0.520000    0.134950   315.500000  2497.000000   \n",
       "50%       0.486733    0.626667    0.180975   713.000000  3662.000000   \n",
       "75%       0.608602    0.730209    0.233214  1096.000000  4776.500000   \n",
       "max       0.840896    0.972500    0.507463  3410.000000  6946.000000   \n",
       "\n",
       "                cnt  \n",
       "count    731.000000  \n",
       "unique          NaN  \n",
       "top             NaN  \n",
       "freq            NaN  \n",
       "mean    4504.348837  \n",
       "std     1937.211452  \n",
       "min       22.000000  \n",
       "25%     3152.000000  \n",
       "50%     4548.000000  \n",
       "75%     5956.000000  \n",
       "max     8714.000000  "
      ]
     },
     "execution_count": 7,
     "metadata": {},
     "output_type": "execute_result"
    }
   ],
   "source": [
    "#Describe semua dataframe\n",
    "\n",
    "#Dataframe day_df\n",
    "day_df.describe(include=\"all\")"
   ]
  },
  {
   "cell_type": "markdown",
   "metadata": {},
   "source": [
    "Insight : Kita bisa melihat bahwa masih banyak nilai kosong seperti pada kolom year, holiday, weekday, workingday. Lalu juga banyak nilai NaN karena tipe data yang tidak sesuai"
   ]
  },
  {
   "cell_type": "code",
   "execution_count": 8,
   "metadata": {},
   "outputs": [
    {
     "data": {
      "text/html": [
       "<div>\n",
       "<style scoped>\n",
       "    .dataframe tbody tr th:only-of-type {\n",
       "        vertical-align: middle;\n",
       "    }\n",
       "\n",
       "    .dataframe tbody tr th {\n",
       "        vertical-align: top;\n",
       "    }\n",
       "\n",
       "    .dataframe thead th {\n",
       "        text-align: right;\n",
       "    }\n",
       "</style>\n",
       "<table border=\"1\" class=\"dataframe\">\n",
       "  <thead>\n",
       "    <tr style=\"text-align: right;\">\n",
       "      <th></th>\n",
       "      <th>instant</th>\n",
       "      <th>dteday</th>\n",
       "      <th>season</th>\n",
       "      <th>yr</th>\n",
       "      <th>mnth</th>\n",
       "      <th>hr</th>\n",
       "      <th>holiday</th>\n",
       "      <th>weekday</th>\n",
       "      <th>workingday</th>\n",
       "      <th>weathersit</th>\n",
       "      <th>temp</th>\n",
       "      <th>atemp</th>\n",
       "      <th>hum</th>\n",
       "      <th>windspeed</th>\n",
       "      <th>casual</th>\n",
       "      <th>registered</th>\n",
       "      <th>cnt</th>\n",
       "    </tr>\n",
       "  </thead>\n",
       "  <tbody>\n",
       "    <tr>\n",
       "      <th>count</th>\n",
       "      <td>17379.0000</td>\n",
       "      <td>17379</td>\n",
       "      <td>17379.000000</td>\n",
       "      <td>17379.000000</td>\n",
       "      <td>17379.000000</td>\n",
       "      <td>17379.000000</td>\n",
       "      <td>17379.000000</td>\n",
       "      <td>17379.000000</td>\n",
       "      <td>17379.000000</td>\n",
       "      <td>17379.000000</td>\n",
       "      <td>17379.000000</td>\n",
       "      <td>17379.000000</td>\n",
       "      <td>17379.000000</td>\n",
       "      <td>17379.000000</td>\n",
       "      <td>17379.000000</td>\n",
       "      <td>17379.000000</td>\n",
       "      <td>17379.000000</td>\n",
       "    </tr>\n",
       "    <tr>\n",
       "      <th>unique</th>\n",
       "      <td>NaN</td>\n",
       "      <td>731</td>\n",
       "      <td>NaN</td>\n",
       "      <td>NaN</td>\n",
       "      <td>NaN</td>\n",
       "      <td>NaN</td>\n",
       "      <td>NaN</td>\n",
       "      <td>NaN</td>\n",
       "      <td>NaN</td>\n",
       "      <td>NaN</td>\n",
       "      <td>NaN</td>\n",
       "      <td>NaN</td>\n",
       "      <td>NaN</td>\n",
       "      <td>NaN</td>\n",
       "      <td>NaN</td>\n",
       "      <td>NaN</td>\n",
       "      <td>NaN</td>\n",
       "    </tr>\n",
       "    <tr>\n",
       "      <th>top</th>\n",
       "      <td>NaN</td>\n",
       "      <td>2012-12-31</td>\n",
       "      <td>NaN</td>\n",
       "      <td>NaN</td>\n",
       "      <td>NaN</td>\n",
       "      <td>NaN</td>\n",
       "      <td>NaN</td>\n",
       "      <td>NaN</td>\n",
       "      <td>NaN</td>\n",
       "      <td>NaN</td>\n",
       "      <td>NaN</td>\n",
       "      <td>NaN</td>\n",
       "      <td>NaN</td>\n",
       "      <td>NaN</td>\n",
       "      <td>NaN</td>\n",
       "      <td>NaN</td>\n",
       "      <td>NaN</td>\n",
       "    </tr>\n",
       "    <tr>\n",
       "      <th>freq</th>\n",
       "      <td>NaN</td>\n",
       "      <td>24</td>\n",
       "      <td>NaN</td>\n",
       "      <td>NaN</td>\n",
       "      <td>NaN</td>\n",
       "      <td>NaN</td>\n",
       "      <td>NaN</td>\n",
       "      <td>NaN</td>\n",
       "      <td>NaN</td>\n",
       "      <td>NaN</td>\n",
       "      <td>NaN</td>\n",
       "      <td>NaN</td>\n",
       "      <td>NaN</td>\n",
       "      <td>NaN</td>\n",
       "      <td>NaN</td>\n",
       "      <td>NaN</td>\n",
       "      <td>NaN</td>\n",
       "    </tr>\n",
       "    <tr>\n",
       "      <th>mean</th>\n",
       "      <td>8690.0000</td>\n",
       "      <td>NaN</td>\n",
       "      <td>2.501640</td>\n",
       "      <td>0.502561</td>\n",
       "      <td>6.537775</td>\n",
       "      <td>11.546752</td>\n",
       "      <td>0.028770</td>\n",
       "      <td>3.003683</td>\n",
       "      <td>0.682721</td>\n",
       "      <td>1.425283</td>\n",
       "      <td>0.496987</td>\n",
       "      <td>0.475775</td>\n",
       "      <td>0.627229</td>\n",
       "      <td>0.190098</td>\n",
       "      <td>35.676218</td>\n",
       "      <td>153.786869</td>\n",
       "      <td>189.463088</td>\n",
       "    </tr>\n",
       "    <tr>\n",
       "      <th>std</th>\n",
       "      <td>5017.0295</td>\n",
       "      <td>NaN</td>\n",
       "      <td>1.106918</td>\n",
       "      <td>0.500008</td>\n",
       "      <td>3.438776</td>\n",
       "      <td>6.914405</td>\n",
       "      <td>0.167165</td>\n",
       "      <td>2.005771</td>\n",
       "      <td>0.465431</td>\n",
       "      <td>0.639357</td>\n",
       "      <td>0.192556</td>\n",
       "      <td>0.171850</td>\n",
       "      <td>0.192930</td>\n",
       "      <td>0.122340</td>\n",
       "      <td>49.305030</td>\n",
       "      <td>151.357286</td>\n",
       "      <td>181.387599</td>\n",
       "    </tr>\n",
       "    <tr>\n",
       "      <th>min</th>\n",
       "      <td>1.0000</td>\n",
       "      <td>NaN</td>\n",
       "      <td>1.000000</td>\n",
       "      <td>0.000000</td>\n",
       "      <td>1.000000</td>\n",
       "      <td>0.000000</td>\n",
       "      <td>0.000000</td>\n",
       "      <td>0.000000</td>\n",
       "      <td>0.000000</td>\n",
       "      <td>1.000000</td>\n",
       "      <td>0.020000</td>\n",
       "      <td>0.000000</td>\n",
       "      <td>0.000000</td>\n",
       "      <td>0.000000</td>\n",
       "      <td>0.000000</td>\n",
       "      <td>0.000000</td>\n",
       "      <td>1.000000</td>\n",
       "    </tr>\n",
       "    <tr>\n",
       "      <th>25%</th>\n",
       "      <td>4345.5000</td>\n",
       "      <td>NaN</td>\n",
       "      <td>2.000000</td>\n",
       "      <td>0.000000</td>\n",
       "      <td>4.000000</td>\n",
       "      <td>6.000000</td>\n",
       "      <td>0.000000</td>\n",
       "      <td>1.000000</td>\n",
       "      <td>0.000000</td>\n",
       "      <td>1.000000</td>\n",
       "      <td>0.340000</td>\n",
       "      <td>0.333300</td>\n",
       "      <td>0.480000</td>\n",
       "      <td>0.104500</td>\n",
       "      <td>4.000000</td>\n",
       "      <td>34.000000</td>\n",
       "      <td>40.000000</td>\n",
       "    </tr>\n",
       "    <tr>\n",
       "      <th>50%</th>\n",
       "      <td>8690.0000</td>\n",
       "      <td>NaN</td>\n",
       "      <td>3.000000</td>\n",
       "      <td>1.000000</td>\n",
       "      <td>7.000000</td>\n",
       "      <td>12.000000</td>\n",
       "      <td>0.000000</td>\n",
       "      <td>3.000000</td>\n",
       "      <td>1.000000</td>\n",
       "      <td>1.000000</td>\n",
       "      <td>0.500000</td>\n",
       "      <td>0.484800</td>\n",
       "      <td>0.630000</td>\n",
       "      <td>0.194000</td>\n",
       "      <td>17.000000</td>\n",
       "      <td>115.000000</td>\n",
       "      <td>142.000000</td>\n",
       "    </tr>\n",
       "    <tr>\n",
       "      <th>75%</th>\n",
       "      <td>13034.5000</td>\n",
       "      <td>NaN</td>\n",
       "      <td>3.000000</td>\n",
       "      <td>1.000000</td>\n",
       "      <td>10.000000</td>\n",
       "      <td>18.000000</td>\n",
       "      <td>0.000000</td>\n",
       "      <td>5.000000</td>\n",
       "      <td>1.000000</td>\n",
       "      <td>2.000000</td>\n",
       "      <td>0.660000</td>\n",
       "      <td>0.621200</td>\n",
       "      <td>0.780000</td>\n",
       "      <td>0.253700</td>\n",
       "      <td>48.000000</td>\n",
       "      <td>220.000000</td>\n",
       "      <td>281.000000</td>\n",
       "    </tr>\n",
       "    <tr>\n",
       "      <th>max</th>\n",
       "      <td>17379.0000</td>\n",
       "      <td>NaN</td>\n",
       "      <td>4.000000</td>\n",
       "      <td>1.000000</td>\n",
       "      <td>12.000000</td>\n",
       "      <td>23.000000</td>\n",
       "      <td>1.000000</td>\n",
       "      <td>6.000000</td>\n",
       "      <td>1.000000</td>\n",
       "      <td>4.000000</td>\n",
       "      <td>1.000000</td>\n",
       "      <td>1.000000</td>\n",
       "      <td>1.000000</td>\n",
       "      <td>0.850700</td>\n",
       "      <td>367.000000</td>\n",
       "      <td>886.000000</td>\n",
       "      <td>977.000000</td>\n",
       "    </tr>\n",
       "  </tbody>\n",
       "</table>\n",
       "</div>"
      ],
      "text/plain": [
       "           instant      dteday        season            yr          mnth  \\\n",
       "count   17379.0000       17379  17379.000000  17379.000000  17379.000000   \n",
       "unique         NaN         731           NaN           NaN           NaN   \n",
       "top            NaN  2012-12-31           NaN           NaN           NaN   \n",
       "freq           NaN          24           NaN           NaN           NaN   \n",
       "mean     8690.0000         NaN      2.501640      0.502561      6.537775   \n",
       "std      5017.0295         NaN      1.106918      0.500008      3.438776   \n",
       "min         1.0000         NaN      1.000000      0.000000      1.000000   \n",
       "25%      4345.5000         NaN      2.000000      0.000000      4.000000   \n",
       "50%      8690.0000         NaN      3.000000      1.000000      7.000000   \n",
       "75%     13034.5000         NaN      3.000000      1.000000     10.000000   \n",
       "max     17379.0000         NaN      4.000000      1.000000     12.000000   \n",
       "\n",
       "                  hr       holiday       weekday    workingday    weathersit  \\\n",
       "count   17379.000000  17379.000000  17379.000000  17379.000000  17379.000000   \n",
       "unique           NaN           NaN           NaN           NaN           NaN   \n",
       "top              NaN           NaN           NaN           NaN           NaN   \n",
       "freq             NaN           NaN           NaN           NaN           NaN   \n",
       "mean       11.546752      0.028770      3.003683      0.682721      1.425283   \n",
       "std         6.914405      0.167165      2.005771      0.465431      0.639357   \n",
       "min         0.000000      0.000000      0.000000      0.000000      1.000000   \n",
       "25%         6.000000      0.000000      1.000000      0.000000      1.000000   \n",
       "50%        12.000000      0.000000      3.000000      1.000000      1.000000   \n",
       "75%        18.000000      0.000000      5.000000      1.000000      2.000000   \n",
       "max        23.000000      1.000000      6.000000      1.000000      4.000000   \n",
       "\n",
       "                temp         atemp           hum     windspeed        casual  \\\n",
       "count   17379.000000  17379.000000  17379.000000  17379.000000  17379.000000   \n",
       "unique           NaN           NaN           NaN           NaN           NaN   \n",
       "top              NaN           NaN           NaN           NaN           NaN   \n",
       "freq             NaN           NaN           NaN           NaN           NaN   \n",
       "mean        0.496987      0.475775      0.627229      0.190098     35.676218   \n",
       "std         0.192556      0.171850      0.192930      0.122340     49.305030   \n",
       "min         0.020000      0.000000      0.000000      0.000000      0.000000   \n",
       "25%         0.340000      0.333300      0.480000      0.104500      4.000000   \n",
       "50%         0.500000      0.484800      0.630000      0.194000     17.000000   \n",
       "75%         0.660000      0.621200      0.780000      0.253700     48.000000   \n",
       "max         1.000000      1.000000      1.000000      0.850700    367.000000   \n",
       "\n",
       "          registered           cnt  \n",
       "count   17379.000000  17379.000000  \n",
       "unique           NaN           NaN  \n",
       "top              NaN           NaN  \n",
       "freq             NaN           NaN  \n",
       "mean      153.786869    189.463088  \n",
       "std       151.357286    181.387599  \n",
       "min         0.000000      1.000000  \n",
       "25%        34.000000     40.000000  \n",
       "50%       115.000000    142.000000  \n",
       "75%       220.000000    281.000000  \n",
       "max       886.000000    977.000000  "
      ]
     },
     "execution_count": 8,
     "metadata": {},
     "output_type": "execute_result"
    }
   ],
   "source": [
    "#Dataframe hour_df\n",
    "hour_df.describe(include=\"all\")"
   ]
  },
  {
   "cell_type": "markdown",
   "metadata": {},
   "source": [
    "Insight : Sama seperti day_df banyak nilai kosong pada year, holiday, dll. Kemudian banyak tipe data yang tidak sesuai sehingga menghasilkan NaN"
   ]
  },
  {
   "cell_type": "markdown",
   "metadata": {},
   "source": [
    "Cleaning Data"
   ]
  },
  {
   "cell_type": "code",
   "execution_count": 9,
   "metadata": {},
   "outputs": [],
   "source": [
    "# Cleaning untuk dataframe day_df\n",
    "\n",
    "# Konversi kolom dteday menjadi datetime\n",
    "day_df[\"dteday\"] = pd.to_datetime(day_df[\"dteday\"])"
   ]
  },
  {
   "cell_type": "markdown",
   "metadata": {},
   "source": [
    "Insight : Mengubah kolom dteday pada day_df menjadi datetime tipe datanya"
   ]
  },
  {
   "cell_type": "code",
   "execution_count": 10,
   "metadata": {},
   "outputs": [],
   "source": [
    "# Mengubah tipe data kategori untuk kolom kategorikal\n",
    "categorical_cols = [\"season\", \"yr\", \"mnth\", \"holiday\", \"weekday\", \"workingday\", \"weathersit\"]\n",
    "day_df[categorical_cols] = day_df[categorical_cols].astype(\"category\")"
   ]
  },
  {
   "cell_type": "markdown",
   "metadata": {},
   "source": [
    "Insight : mengubah tipe data kolom kategorikal dalam DataFrame day_df menjadi tipe data category"
   ]
  },
  {
   "cell_type": "code",
   "execution_count": 11,
   "metadata": {},
   "outputs": [],
   "source": [
    "# Mengisi missing values pada kolom numerik dengan median\n",
    "num_cols = day_df.select_dtypes(include=[\"float64\"]).columns\n",
    "day_df[num_cols] = day_df[num_cols].apply(lambda x: x.fillna(x.median()))"
   ]
  },
  {
   "cell_type": "markdown",
   "metadata": {},
   "source": [
    " Insight : Mengisi nilai yang hilang (missing values) pada kolom numerik dalam DataFrame day_df dengan nilai median "
   ]
  },
  {
   "cell_type": "code",
   "execution_count": 12,
   "metadata": {},
   "outputs": [
    {
     "name": "stdout",
     "output_type": "stream",
     "text": [
      "Jumlah duplikasi data pada dataframe day_df:  0\n"
     ]
    }
   ],
   "source": [
    "# Cek apakah ada duplikasi data\n",
    "print(\"Jumlah duplikasi data pada dataframe day_df: \", day_df.duplicated().sum())"
   ]
  },
  {
   "cell_type": "markdown",
   "metadata": {},
   "source": [
    "Insight : Hasil yang didapatkan 0 untuk duplikasi data pada day_df"
   ]
  },
  {
   "cell_type": "code",
   "execution_count": 13,
   "metadata": {},
   "outputs": [
    {
     "name": "stdout",
     "output_type": "stream",
     "text": [
      "<class 'pandas.core.frame.DataFrame'>\n",
      "RangeIndex: 731 entries, 0 to 730\n",
      "Data columns (total 16 columns):\n",
      " #   Column      Non-Null Count  Dtype         \n",
      "---  ------      --------------  -----         \n",
      " 0   instant     731 non-null    int64         \n",
      " 1   dteday      731 non-null    datetime64[ns]\n",
      " 2   season      731 non-null    category      \n",
      " 3   yr          731 non-null    category      \n",
      " 4   mnth        731 non-null    category      \n",
      " 5   holiday     731 non-null    category      \n",
      " 6   weekday     731 non-null    category      \n",
      " 7   workingday  731 non-null    category      \n",
      " 8   weathersit  731 non-null    category      \n",
      " 9   temp        731 non-null    float64       \n",
      " 10  atemp       731 non-null    float64       \n",
      " 11  hum         731 non-null    float64       \n",
      " 12  windspeed   731 non-null    float64       \n",
      " 13  casual      731 non-null    int64         \n",
      " 14  registered  731 non-null    int64         \n",
      " 15  cnt         731 non-null    int64         \n",
      "dtypes: category(7), datetime64[ns](1), float64(4), int64(4)\n",
      "memory usage: 58.0 KB\n"
     ]
    },
    {
     "data": {
      "text/plain": [
       "(None,\n",
       "           instant               dteday        temp       atemp         hum  \\\n",
       " count  731.000000                  731  731.000000  731.000000  731.000000   \n",
       " mean   366.000000  2012-01-01 00:00:00    0.495385    0.474354    0.627894   \n",
       " min      1.000000  2011-01-01 00:00:00    0.059130    0.079070    0.000000   \n",
       " 25%    183.500000  2011-07-02 12:00:00    0.337083    0.337842    0.520000   \n",
       " 50%    366.000000  2012-01-01 00:00:00    0.498333    0.486733    0.626667   \n",
       " 75%    548.500000  2012-07-01 12:00:00    0.655417    0.608602    0.730209   \n",
       " max    731.000000  2012-12-31 00:00:00    0.861667    0.840896    0.972500   \n",
       " std    211.165812                  NaN    0.183051    0.162961    0.142429   \n",
       " \n",
       "         windspeed       casual   registered          cnt  \n",
       " count  731.000000   731.000000   731.000000   731.000000  \n",
       " mean     0.190486   848.176471  3656.172367  4504.348837  \n",
       " min      0.022392     2.000000    20.000000    22.000000  \n",
       " 25%      0.134950   315.500000  2497.000000  3152.000000  \n",
       " 50%      0.180975   713.000000  3662.000000  4548.000000  \n",
       " 75%      0.233214  1096.000000  4776.500000  5956.000000  \n",
       " max      0.507463  3410.000000  6946.000000  8714.000000  \n",
       " std      0.077498   686.622488  1560.256377  1937.211452  )"
      ]
     },
     "execution_count": 13,
     "metadata": {},
     "output_type": "execute_result"
    }
   ],
   "source": [
    "# Tampilkan ringkasan hasil cleansing\n",
    "day_df.info(), day_df.describe()"
   ]
  },
  {
   "cell_type": "markdown",
   "metadata": {},
   "source": [
    "Insight : Pada hasil diatas dapat dilihat jika tipe data sudah diubah"
   ]
  },
  {
   "cell_type": "code",
   "execution_count": 14,
   "metadata": {},
   "outputs": [],
   "source": [
    "# Cleaning Data hour_df\n",
    "\n",
    "# Konversi kolom dteday menjadi datetime\n",
    "hour_df[\"dteday\"] = pd.to_datetime(hour_df[\"dteday\"])"
   ]
  },
  {
   "cell_type": "markdown",
   "metadata": {},
   "source": [
    "Insight : Mengulangi hal yang sama seperti day_df pada hour_df untuk mengubah tipe data menjadi datetime pada dteday"
   ]
  },
  {
   "cell_type": "code",
   "execution_count": 15,
   "metadata": {},
   "outputs": [],
   "source": [
    "# Mengubah tipe data kategori untuk kolom kategorikal\n",
    "categorical_cols = [\"season\", \"yr\", \"mnth\", \"holiday\", \"weekday\", \"workingday\", \"weathersit\"]\n",
    "hour_df[categorical_cols] = hour_df[categorical_cols].astype(\"category\")"
   ]
  },
  {
   "cell_type": "markdown",
   "metadata": {},
   "source": [
    "Insight : Mengubah tipe data kategori juga seperti yang tadi"
   ]
  },
  {
   "cell_type": "code",
   "execution_count": 16,
   "metadata": {},
   "outputs": [],
   "source": [
    "# Mengisi missing values pada kolom numerik dengan median\n",
    "num_cols = hour_df.select_dtypes(include=[\"float64\"]).columns\n",
    "hour_df[num_cols] = hour_df[num_cols].apply(lambda x: x.fillna(x.median()))"
   ]
  },
  {
   "cell_type": "markdown",
   "metadata": {},
   "source": [
    "Insight : Mengisi missing values pada hour_df juga sama seperti tadi day_df"
   ]
  },
  {
   "cell_type": "code",
   "execution_count": 17,
   "metadata": {},
   "outputs": [
    {
     "name": "stdout",
     "output_type": "stream",
     "text": [
      "Jumlah duplikasi data pada dataframe hour_df:  0\n"
     ]
    }
   ],
   "source": [
    "# Cek apakah ada duplikasi data\n",
    "print(\"Jumlah duplikasi data pada dataframe hour_df: \", hour_df.duplicated().sum())"
   ]
  },
  {
   "cell_type": "markdown",
   "metadata": {},
   "source": [
    "Insight : Hasil duplikasi menunjukan 0"
   ]
  },
  {
   "cell_type": "code",
   "execution_count": 18,
   "metadata": {},
   "outputs": [
    {
     "name": "stdout",
     "output_type": "stream",
     "text": [
      "<class 'pandas.core.frame.DataFrame'>\n",
      "RangeIndex: 17379 entries, 0 to 17378\n",
      "Data columns (total 17 columns):\n",
      " #   Column      Non-Null Count  Dtype         \n",
      "---  ------      --------------  -----         \n",
      " 0   instant     17379 non-null  int64         \n",
      " 1   dteday      17379 non-null  datetime64[ns]\n",
      " 2   season      17379 non-null  category      \n",
      " 3   yr          17379 non-null  category      \n",
      " 4   mnth        17379 non-null  category      \n",
      " 5   hr          17379 non-null  int64         \n",
      " 6   holiday     17379 non-null  category      \n",
      " 7   weekday     17379 non-null  category      \n",
      " 8   workingday  17379 non-null  category      \n",
      " 9   weathersit  17379 non-null  category      \n",
      " 10  temp        17379 non-null  float64       \n",
      " 11  atemp       17379 non-null  float64       \n",
      " 12  hum         17379 non-null  float64       \n",
      " 13  windspeed   17379 non-null  float64       \n",
      " 14  casual      17379 non-null  int64         \n",
      " 15  registered  17379 non-null  int64         \n",
      " 16  cnt         17379 non-null  int64         \n",
      "dtypes: category(7), datetime64[ns](1), float64(4), int64(5)\n",
      "memory usage: 1.4 MB\n"
     ]
    },
    {
     "data": {
      "text/plain": [
       "(None,\n",
       "           instant                         dteday            hr          temp  \\\n",
       " count  17379.0000                          17379  17379.000000  17379.000000   \n",
       " mean    8690.0000  2012-01-02 04:08:34.552045568     11.546752      0.496987   \n",
       " min        1.0000            2011-01-01 00:00:00      0.000000      0.020000   \n",
       " 25%     4345.5000            2011-07-04 00:00:00      6.000000      0.340000   \n",
       " 50%     8690.0000            2012-01-02 00:00:00     12.000000      0.500000   \n",
       " 75%    13034.5000            2012-07-02 00:00:00     18.000000      0.660000   \n",
       " max    17379.0000            2012-12-31 00:00:00     23.000000      1.000000   \n",
       " std     5017.0295                            NaN      6.914405      0.192556   \n",
       " \n",
       "               atemp           hum     windspeed        casual    registered  \\\n",
       " count  17379.000000  17379.000000  17379.000000  17379.000000  17379.000000   \n",
       " mean       0.475775      0.627229      0.190098     35.676218    153.786869   \n",
       " min        0.000000      0.000000      0.000000      0.000000      0.000000   \n",
       " 25%        0.333300      0.480000      0.104500      4.000000     34.000000   \n",
       " 50%        0.484800      0.630000      0.194000     17.000000    115.000000   \n",
       " 75%        0.621200      0.780000      0.253700     48.000000    220.000000   \n",
       " max        1.000000      1.000000      0.850700    367.000000    886.000000   \n",
       " std        0.171850      0.192930      0.122340     49.305030    151.357286   \n",
       " \n",
       "                 cnt  \n",
       " count  17379.000000  \n",
       " mean     189.463088  \n",
       " min        1.000000  \n",
       " 25%       40.000000  \n",
       " 50%      142.000000  \n",
       " 75%      281.000000  \n",
       " max      977.000000  \n",
       " std      181.387599  )"
      ]
     },
     "execution_count": 18,
     "metadata": {},
     "output_type": "execute_result"
    }
   ],
   "source": [
    "# Tampilkan ringkasan hasil cleansing\n",
    "hour_df.info(), hour_df.describe()"
   ]
  },
  {
   "cell_type": "markdown",
   "metadata": {},
   "source": [
    "Insight : Hasilnya dapat dilihat jika tipe data sudah diubah sesuai dengan yang seharusnya"
   ]
  },
  {
   "cell_type": "markdown",
   "metadata": {},
   "source": [
    "# Exploratory Data Analysis (EDA)"
   ]
  },
  {
   "cell_type": "markdown",
   "metadata": {},
   "source": [
    "Explore"
   ]
  },
  {
   "cell_type": "code",
   "execution_count": 19,
   "metadata": {},
   "outputs": [
    {
     "name": "stdout",
     "output_type": "stream",
     "text": [
      "\n",
      "Rata-rata penyewaan sepeda per musim:\n",
      "  season_name          cnt\n",
      "0      Spring  2604.132597\n",
      "1      Summer  4992.331522\n",
      "2        Fall  5644.303191\n",
      "3      Winter  4728.162921\n"
     ]
    },
    {
     "name": "stderr",
     "output_type": "stream",
     "text": [
      "C:\\Users\\Andiyono\\AppData\\Local\\Temp\\ipykernel_17864\\3289362658.py:6: FutureWarning: The default of observed=False is deprecated and will be changed to True in a future version of pandas. Pass observed=False to retain current behavior or observed=True to adopt the future default and silence this warning.\n",
      "  day_season_avg = day_df.groupby(\"season_name\")[\"cnt\"].mean().reset_index()\n"
     ]
    }
   ],
   "source": [
    "# Mapping season values\n",
    "season_map = {1: 'Spring', 2: 'Summer', 3: 'Fall', 4: 'Winter'}\n",
    "day_df['season_name'] = day_df['season'].map(season_map)\n",
    "\n",
    "# Group by season\n",
    "day_season_avg = day_df.groupby(\"season_name\")[\"cnt\"].mean().reset_index()\n",
    "print(\"\\nRata-rata penyewaan sepeda per musim:\")\n",
    "print(day_season_avg)"
   ]
  },
  {
   "cell_type": "markdown",
   "metadata": {},
   "source": [
    "Insight : mengubah nilai numerik pada kolom season menjadi label kategori, kemudian menghitung rata-rata penyewaan sepeda untuk setiap musim."
   ]
  },
  {
   "cell_type": "code",
   "execution_count": 20,
   "metadata": {},
   "outputs": [
    {
     "name": "stdout",
     "output_type": "stream",
     "text": [
      "\n",
      "Rata-rata penyewaan sepeda per kondisi cuaca:\n",
      "  weather_name          cnt\n",
      "0        Clear  4876.786177\n",
      "1       Cloudy  4035.862348\n",
      "2    Rain/Snow  1803.285714\n"
     ]
    },
    {
     "name": "stderr",
     "output_type": "stream",
     "text": [
      "C:\\Users\\Andiyono\\AppData\\Local\\Temp\\ipykernel_17864\\3221318523.py:4: FutureWarning: The default of observed=False is deprecated and will be changed to True in a future version of pandas. Pass observed=False to retain current behavior or observed=True to adopt the future default and silence this warning.\n",
      "  day_weather_avg = day_df.groupby(\"weather_name\")[\"cnt\"].mean().reset_index()\n"
     ]
    }
   ],
   "source": [
    "# Group by weather condition\n",
    "weather_map = {1: 'Clear', 2: 'Cloudy', 3: 'Rain/Snow'}\n",
    "day_df['weather_name'] = day_df['weathersit'].map(weather_map)\n",
    "day_weather_avg = day_df.groupby(\"weather_name\")[\"cnt\"].mean().reset_index()\n",
    "print(\"\\nRata-rata penyewaan sepeda per kondisi cuaca:\")\n",
    "print(day_weather_avg)"
   ]
  },
  {
   "cell_type": "markdown",
   "metadata": {},
   "source": [
    "Insight : mengubah nilai numerik dalam kolom weathersit menjadi label kategori, lalu menghitung rata-rata penyewaan sepeda berdasarkan kondisi cuaca."
   ]
  },
  {
   "cell_type": "code",
   "execution_count": 21,
   "metadata": {},
   "outputs": [
    {
     "name": "stdout",
     "output_type": "stream",
     "text": [
      "\n",
      "Rata-rata penyewaan sepeda pada hari kerja vs libur:\n",
      "        workingday          cnt\n",
      "0  Non-Working Day  4330.168831\n",
      "1      Working Day  4584.820000\n"
     ]
    },
    {
     "name": "stderr",
     "output_type": "stream",
     "text": [
      "C:\\Users\\Andiyono\\AppData\\Local\\Temp\\ipykernel_17864\\4154465791.py:2: FutureWarning: The default of observed=False is deprecated and will be changed to True in a future version of pandas. Pass observed=False to retain current behavior or observed=True to adopt the future default and silence this warning.\n",
      "  day_workingday_avg = day_df.groupby(\"workingday\")[\"cnt\"].mean().reset_index()\n"
     ]
    }
   ],
   "source": [
    "# Group by working day\n",
    "day_workingday_avg = day_df.groupby(\"workingday\")[\"cnt\"].mean().reset_index()\n",
    "day_workingday_avg[\"workingday\"] = day_workingday_avg[\"workingday\"].map({0: 'Non-Working Day', 1: 'Working Day'})\n",
    "print(\"\\nRata-rata penyewaan sepeda pada hari kerja vs libur:\")\n",
    "print(day_workingday_avg)"
   ]
  },
  {
   "cell_type": "markdown",
   "metadata": {},
   "source": [
    "Insight : menghitung rata-rata penyewaan sepeda pada hari kerja dan hari libur serta mengubah nilai numeriknya menjadi label yang lebih mudah dipahami."
   ]
  },
  {
   "cell_type": "code",
   "execution_count": 22,
   "metadata": {},
   "outputs": [
    {
     "name": "stdout",
     "output_type": "stream",
     "text": [
      "\n",
      "Rata-rata penyewaan sepeda per jam:\n",
      "    hr         cnt\n",
      "0    0   53.898072\n",
      "1    1   33.375691\n",
      "2    2   22.869930\n",
      "3    3   11.727403\n",
      "4    4    6.352941\n",
      "5    5   19.889819\n",
      "6    6   76.044138\n",
      "7    7  212.064649\n",
      "8    8  359.011004\n",
      "9    9  219.309491\n",
      "10  10  173.668501\n",
      "11  11  208.143054\n",
      "12  12  253.315934\n",
      "13  13  253.661180\n",
      "14  14  240.949246\n",
      "15  15  251.233196\n",
      "16  16  311.983562\n",
      "17  17  461.452055\n",
      "18  18  425.510989\n",
      "19  19  311.523352\n",
      "20  20  226.030220\n",
      "21  21  172.314560\n",
      "22  22  131.335165\n",
      "23  23   87.831044\n"
     ]
    }
   ],
   "source": [
    "# Group by hour for hourly trends\n",
    "hourly_trend = hour_df.groupby(\"hr\")[\"cnt\"].mean().reset_index()\n",
    "print(\"\\nRata-rata penyewaan sepeda per jam:\")\n",
    "print(hourly_trend)"
   ]
  },
  {
   "cell_type": "markdown",
   "metadata": {},
   "source": [
    "Insight : menganalisis tren rata-rata penyewaan sepeda berdasarkan jam dalam sehari. Dimana paling ramai pada jam ke 17"
   ]
  },
  {
   "cell_type": "code",
   "execution_count": 23,
   "metadata": {},
   "outputs": [
    {
     "name": "stdout",
     "output_type": "stream",
     "text": [
      "\n",
      "Korelasi antar variabel:\n",
      "             instant      temp     atemp       hum  windspeed    casual  \\\n",
      "instant     1.000000  0.150580  0.152638  0.016375  -0.112620  0.275255   \n",
      "temp        0.150580  1.000000  0.991702  0.126963  -0.157944  0.543285   \n",
      "atemp       0.152638  0.991702  1.000000  0.139988  -0.183643  0.543864   \n",
      "hum         0.016375  0.126963  0.139988  1.000000  -0.248489 -0.077008   \n",
      "windspeed  -0.112620 -0.157944 -0.183643 -0.248489   1.000000 -0.167613   \n",
      "casual      0.275255  0.543285  0.543864 -0.077008  -0.167613  1.000000   \n",
      "registered  0.659623  0.540012  0.544192 -0.091089  -0.217449  0.395282   \n",
      "cnt         0.628830  0.627494  0.631066 -0.100659  -0.234545  0.672804   \n",
      "\n",
      "            registered       cnt  \n",
      "instant       0.659623  0.628830  \n",
      "temp          0.540012  0.627494  \n",
      "atemp         0.544192  0.631066  \n",
      "hum          -0.091089 -0.100659  \n",
      "windspeed    -0.217449 -0.234545  \n",
      "casual        0.395282  0.672804  \n",
      "registered    1.000000  0.945517  \n",
      "cnt           0.945517  1.000000  \n"
     ]
    }
   ],
   "source": [
    "# Correlation analysis\n",
    "print(\"\\nKorelasi antar variabel:\")\n",
    "numeric_cols = day_df.select_dtypes(include=['number'])  \n",
    "print(numeric_cols.corr())"
   ]
  },
  {
   "cell_type": "markdown",
   "metadata": {},
   "source": [
    "Insight : menganalisis korelasi antar variabel numerik dalam dataset."
   ]
  },
  {
   "cell_type": "markdown",
   "metadata": {},
   "source": [
    "# Visualization & Explanatory Analysis"
   ]
  },
  {
   "cell_type": "markdown",
   "metadata": {},
   "source": [
    "Pertanyaan 1 : Apakah hujan atau salju secara signifikan mengurangi jumlah penyewaan sepeda?"
   ]
  },
  {
   "cell_type": "code",
   "execution_count": 24,
   "metadata": {},
   "outputs": [
    {
     "name": "stderr",
     "output_type": "stream",
     "text": [
      "C:\\Users\\Andiyono\\AppData\\Local\\Temp\\ipykernel_17864\\3129067833.py:2: FutureWarning: The default of observed=False is deprecated and will be changed to True in a future version of pandas. Pass observed=False to retain current behavior or observed=True to adopt the future default and silence this warning.\n",
      "  weather_counts = day_df.groupby(\"weathersit\")[\"cnt\"].mean().reset_index()\n",
      "C:\\Users\\Andiyono\\AppData\\Local\\Temp\\ipykernel_17864\\3129067833.py:3: FutureWarning: \n",
      "\n",
      "Passing `palette` without assigning `hue` is deprecated and will be removed in v0.14.0. Assign the `x` variable to `hue` and set `legend=False` for the same effect.\n",
      "\n",
      "  sns.barplot(x=\"weathersit\", y=\"cnt\", data=weather_counts, palette=\"coolwarm\")\n"
     ]
    },
    {
     "data": {
      "image/png": "[encoded data removed]",
      "text/plain": [
       "<Figure size 1000x500 with 1 Axes>"
      ]
     },
     "metadata": {},
     "output_type": "display_data"
    }
   ],
   "source": [
    "plt.figure(figsize=(10, 5))\n",
    "weather_counts = day_df.groupby(\"weathersit\")[\"cnt\"].mean().reset_index()\n",
    "sns.barplot(x=\"weathersit\", y=\"cnt\", data=weather_counts, palette=\"coolwarm\")\n",
    "plt.xlabel(\"Kondisi Cuaca (1 = Cerah, 2 = Mendung, 3 = Hujan / Snow)\")\n",
    "plt.ylabel(\"Rata-rata Jumlah Penyewaan Sepeda\")\n",
    "plt.title(\"Rata-rata Penyewaan Sepeda Berdasarkan Kondisi Cuaca\")\n",
    "plt.show()"
   ]
  },
  {
   "cell_type": "code",
   "execution_count": 25,
   "metadata": {},
   "outputs": [],
   "source": [
    "# Kesimpulan:\n",
    "# Terlihat bahwa kondisi cuaca yang lebih buruk (hujan/salju) memang berpengaruh\n",
    "# terhadap penurunan jumlah penyewaan sepeda dibandingkan cuaca cerah."
   ]
  },
  {
   "cell_type": "markdown",
   "metadata": {},
   "source": [
    "Pertanyaan 2 : Faktor apa yang paling berkontribusi terhadap jumlah penyewaan sepeda?"
   ]
  },
  {
   "cell_type": "code",
   "execution_count": 26,
   "metadata": {},
   "outputs": [
    {
     "data": {
      "image/png": "[encoded data removed]",
      "text/plain": [
       "<Figure size 1000x600 with 2 Axes>"
      ]
     },
     "metadata": {},
     "output_type": "display_data"
    }
   ],
   "source": [
    "plt.figure(figsize=(10, 6))\n",
    "numeric_cols = day_df.select_dtypes(include=['number'])\n",
    "sns.heatmap(numeric_cols.corr(), annot=True, cmap=\"coolwarm\", fmt=\".2f\")\n",
    "plt.title(\"Heatmap Korelasi Antar Variabel dengan Penyewaan Sepeda\")\n",
    "plt.show()"
   ]
  },
  {
   "cell_type": "code",
   "execution_count": 27,
   "metadata": {},
   "outputs": [],
   "source": [
    "# Kesimpulan:\n",
    "# - Faktor dengan korelasi tertinggi terhadap jumlah penyewaan sepeda (cnt) adalah suhu (temp),\n",
    "#   diikuti oleh kelembapan (hum) dan kecepatan angin (windspeed).\n",
    "# - Korelasi negatif menunjukkan bahwa semakin tinggi kelembapan dan kecepatan angin, semakin sedikit penyewa sepeda."
   ]
  },
  {
   "cell_type": "markdown",
   "metadata": {},
   "source": [
    "Visualisasi tren penyewaan sepeda dari waktu ke waktu"
   ]
  },
  {
   "cell_type": "code",
   "execution_count": 28,
   "metadata": {},
   "outputs": [
    {
     "data": {
      "image/png": "[encoded data removed]",
      "text/plain": [
       "<Figure size 1200x600 with 1 Axes>"
      ]
     },
     "metadata": {},
     "output_type": "display_data"
    }
   ],
   "source": [
    "plt.figure(figsize=(12, 6))\n",
    "sns.lineplot(x=\"dteday\", y=\"cnt\", data=day_df, color='red')\n",
    "plt.xlabel(\"Tanggal\")\n",
    "plt.ylabel(\"Jumlah Penyewaan Sepeda\")\n",
    "plt.title(\"Tren Penyewaan Sepeda dari Waktu ke Waktu\")\n",
    "plt.show()"
   ]
  },
  {
   "cell_type": "code",
   "execution_count": 29,
   "metadata": {},
   "outputs": [],
   "source": [
    "# Kesimpulan:\n",
    "# - Terlihat adanya pola musiman dalam tren penyewaan sepeda.\n",
    "# - Terdapat lonjakan jumlah penyewaan di bulan-bulan tertentu, yang bisa disebabkan oleh faktor cuaca atau musim liburan."
   ]
  },
  {
   "cell_type": "markdown",
   "metadata": {},
   "source": [
    "# Analisis Lanjutan"
   ]
  },
  {
   "cell_type": "code",
   "execution_count": 32,
   "metadata": {},
   "outputs": [
    {
     "name": "stdout",
     "output_type": "stream",
     "text": [
      "weather_name\n",
      "Clear        4876.786177\n",
      "Cloudy       4035.862348\n",
      "Rain/Snow    1803.285714\n",
      "Name: cnt, dtype: float64\n"
     ]
    },
    {
     "name": "stderr",
     "output_type": "stream",
     "text": [
      "C:\\Users\\Andiyono\\AppData\\Local\\Temp\\ipykernel_17864\\3675331867.py:2: FutureWarning: The default of observed=False is deprecated and will be changed to True in a future version of pandas. Pass observed=False to retain current behavior or observed=True to adopt the future default and silence this warning.\n",
      "  weather_avg = day_df.groupby(\"weather_name\")[\"cnt\"].mean()\n"
     ]
    }
   ],
   "source": [
    "# Rata - rata rental sepeda berdasarkan cuaca\n",
    "weather_avg = day_df.groupby(\"weather_name\")[\"cnt\"].mean()\n",
    "print(weather_avg)"
   ]
  },
  {
   "cell_type": "code",
   "execution_count": 33,
   "metadata": {},
   "outputs": [],
   "source": [
    "# Manual Grouping berdasarkan jam\n",
    "def categorize_time(hour):\n",
    "    if 6 <= hour < 12:\n",
    "        return \"Pagi\"\n",
    "    elif 12 <= hour < 18:\n",
    "        return \"Siang\"\n",
    "    elif 18 <= hour < 24:\n",
    "        return \"Malam\"\n",
    "    else:\n",
    "        return \"Dini Hari\"\n"
   ]
  },
  {
   "cell_type": "code",
   "execution_count": 34,
   "metadata": {},
   "outputs": [],
   "source": [
    "hour_df[\"time_category\"] = hour_df[\"hr\"].apply(categorize_time)"
   ]
  },
  {
   "cell_type": "code",
   "execution_count": 35,
   "metadata": {},
   "outputs": [],
   "source": [
    "# Binning jumlah penyewaan\n",
    "bins = [0, 100, 300, hour_df[\"cnt\"].max()]\n",
    "labels = [\"Rendah\", \"Sedang\", \"Tinggi\"]\n",
    "hour_df[\"cnt_category\"] = pd.cut(hour_df[\"cnt\"], bins=bins, labels=labels)"
   ]
  },
  {
   "cell_type": "code",
   "execution_count": 36,
   "metadata": {},
   "outputs": [
    {
     "name": "stdout",
     "output_type": "stream",
     "text": [
      "  time_category         cnt\n",
      "0     Dini Hari   24.908559\n",
      "1         Malam  225.757555\n",
      "2          Pagi  208.100688\n",
      "3         Siang  295.483886\n"
     ]
    }
   ],
   "source": [
    "# Analisis\n",
    "time_grouping = hour_df.groupby(\"time_category\")[\"cnt\"].mean().reset_index()\n",
    "print(time_grouping)"
   ]
  },
  {
   "cell_type": "markdown",
   "metadata": {},
   "source": [
    "Insight : Penyewaan sepeda cenderung meningkat pada pagi dan sore hari, yang mengindikasikan bahwa banyak pengguna menggunakan sepeda untuk perjalanan ke/dari tempat kerja atau sekolah.\n",
    "Pada siang hari, jumlah penyewaan sedikit menurun, kemungkinan karena sebagian besar orang sudah berada di tempat kerja atau sekolah.\n",
    "Pada malam hari, penyewaan kembali mengalami peningkatan tetapi tidak setinggi pagi dan sore hari."
   ]
  },
  {
   "cell_type": "code",
   "execution_count": 37,
   "metadata": {},
   "outputs": [
    {
     "name": "stdout",
     "output_type": "stream",
     "text": [
      "cnt_category\n",
      "Rendah    7035\n",
      "Sedang    6453\n",
      "Tinggi    3891\n",
      "Name: count, dtype: int64\n"
     ]
    }
   ],
   "source": [
    "cnt_distribution = hour_df[\"cnt_category\"].value_counts()\n",
    "print(cnt_distribution)"
   ]
  },
  {
   "cell_type": "markdown",
   "metadata": {},
   "source": [
    "Insight : Penyewaan sepeda cenderung meningkat pada pagi dan sore hari, yang mengindikasikan bahwa banyak pengguna menggunakan sepeda untuk perjalanan ke/dari tempat kerja atau sekolah.\n",
    "Pada siang hari, jumlah penyewaan sedikit menurun, kemungkinan karena sebagian besar orang sudah berada di tempat kerja atau sekolah.\n",
    "Pada malam hari, penyewaan kembali mengalami peningkatan tetapi tidak setinggi pagi dan sore hari."
   ]
  },
  {
   "cell_type": "markdown",
   "metadata": {},
   "source": [
    "# Conclusion"
   ]
  },
  {
   "cell_type": "markdown",
   "metadata": {},
   "source": [
    "1. Cuaca berpengaruh signifikan terhadap penyewaan sepeda. Kondisi cuaca seperti hujan, salju, atau suhu ekstrem dapat mengurangi jumlah penyewaan sepeda, sementara cuaca yang cerah dan nyaman cenderung meningkatkan permintaan. Faktor ini menunjukkan bahwa pengguna sepeda sangat mempertimbangkan kondisi lingkungan sebelum memutuskan untuk menyewa.\n",
    "2. Faktor musiman juga memainkan peran penting dalam jumlah penyewaan. Tren penyewaan sepeda cenderung meningkat pada musim panas dan musim semi, ketika cuaca lebih mendukung untuk aktivitas luar ruangan. Sebaliknya, pada musim dingin atau musim hujan, jumlah penyewaan menurun secara signifikan. Hal ini menunjukkan bahwa perubahan musim perlu dipertimbangkan dalam perencanaan operasional layanan penyewaan sepeda."
   ]
  },
  {
   "cell_type": "code",
   "execution_count": 31,
   "metadata": {},
   "outputs": [
    {
     "name": "stdout",
     "output_type": "stream",
     "text": [
      "Semua data telah diekspor ke dalam file main_data.csv.\n"
     ]
    }
   ],
   "source": [
    "all_df = day_df.copy()\n",
    "all_df.to_csv(\"dashboard/main_data.csv\", index=False)\n",
    "\n",
    "print(\"Semua data telah diekspor ke dalam file main_data.csv.\")"
   ]
  },
  {
   "cell_type": "code",
   "execution_count": null,
   "metadata": {},
   "outputs": [],
   "source": []
  }
 ],
 "metadata": {
  "kernelspec": {
   "display_name": "Python 3",
   "language": "python",
   "name": "python3"
  },
  "language_info": {
   "codemirror_mode": {
    "name": "ipython",
    "version": 3
   },
   "file_extension": ".py",
   "mimetype": "text/x-python",
   "name": "python",
   "nbconvert_exporter": "python",
   "pygments_lexer": "ipython3",
   "version": "3.13.2"
  }
 },
 "nbformat": 4,
 "nbformat_minor": 2
}
